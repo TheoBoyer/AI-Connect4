{
  "nbformat": 4,
  "nbformat_minor": 0,
  "metadata": {
    "colab": {
      "name": "Power4.ipynb",
      "provenance": [],
      "collapsed_sections": [],
      "include_colab_link": true
    },
    "kernelspec": {
      "name": "python3",
      "display_name": "Python 3"
    },
    "accelerator": "GPU"
  },
  "cells": [
    {
      "cell_type": "markdown",
      "metadata": {
        "id": "view-in-github",
        "colab_type": "text"
      },
      "source": [
        "<a href=\"https://colab.research.google.com/github/TheoBoyer/AI-Connect4/blob/master/Power4.ipynb\" target=\"_parent\"><img src=\"https://colab.research.google.com/assets/colab-badge.svg\" alt=\"Open In Colab\"/></a>"
      ]
    },
    {
      "cell_type": "code",
      "metadata": {
        "id": "QCCzOxom5fpe",
        "colab_type": "code",
        "outputId": "7954cade-33a0-408e-a6c2-e5cdf6a74ae8",
        "colab": {
          "base_uri": "https://localhost:8080/",
          "height": 119
        }
      },
      "source": [
        " %tensorflow_version 2.x\n",
        "!pip install pyyaml h5py\n",
        "import tensorflow as tf\n",
        "\n",
        "import matplotlib.pyplot as plt\n",
        "import numpy as np\n",
        "\n",
        "from random import randint, random\n",
        "from sklearn.utils import shuffle\n",
        "\n",
        "from os import system\n",
        "from copy import deepcopy\n",
        "\n",
        "print(tf.__version__)"
      ],
      "execution_count": 0,
      "outputs": [
        {
          "output_type": "stream",
          "text": [
            "TensorFlow 2.x selected.\n",
            "Requirement already satisfied: pyyaml in /usr/local/lib/python3.6/dist-packages (3.13)\n",
            "Requirement already satisfied: h5py in /tensorflow-2.1.0/python3.6 (2.10.0)\n",
            "Requirement already satisfied: six in /tensorflow-2.1.0/python3.6 (from h5py) (1.13.0)\n",
            "Requirement already satisfied: numpy>=1.7 in /tensorflow-2.1.0/python3.6 (from h5py) (1.17.4)\n",
            "2.1.0-rc1\n"
          ],
          "name": "stdout"
        }
      ]
    },
    {
      "cell_type": "markdown",
      "metadata": {
        "id": "g-jlQg2L9ni0",
        "colab_type": "text"
      },
      "source": [
        "#**Jeu du puissance 4**"
      ]
    },
    {
      "cell_type": "code",
      "metadata": {
        "id": "uUWvgDmr9k8F",
        "colab_type": "code",
        "colab": {}
      },
      "source": [
        "# Utils function\n",
        "class Power4:\n",
        "  @staticmethod\n",
        "  def get_diags(array, n=4):\n",
        "      w, h = array.shape\n",
        "      l_max = min(w,h)\n",
        "      for i in range(n-1, w+h-n):\n",
        "          n_arr = []\n",
        "          for j in range(i+1):\n",
        "              if j<h and i-j <w:\n",
        "                  n_arr.append((i-j, j))\n",
        "          yield np.array(list(map(lambda x:array[x], n_arr)))\n",
        "\n",
        "  @staticmethod\n",
        "  def alignement_4(array):\n",
        "      for i in range(len(array)-3):\n",
        "          p_sum = array[i:i+4].sum()\n",
        "          if abs(p_sum)==4:\n",
        "              return int(p_sum/abs(p_sum))\n",
        "      return 0\n",
        "\n",
        "  @staticmethod\n",
        "  def who_play(grid):\n",
        "    return [1, -1][grid.sum()]\n",
        "\n",
        "  @staticmethod\n",
        "  def get_playing_mask(grid):\n",
        "    return (np.abs(grid).sum(axis=1) < 6).astype(np.uint8)\n",
        "\n",
        "  @staticmethod\n",
        "  def get_winner(grid):\n",
        "    for c in grid:\n",
        "        p_winner = Power4.alignement_4(c)\n",
        "        if p_winner!=0:\n",
        "            return p_winner\n",
        "    for c in grid.T:\n",
        "        p_winner = Power4.alignement_4(c)\n",
        "        if p_winner!=0:\n",
        "            return p_winner\n",
        "    for c in Power4.get_diags(grid):\n",
        "        p_winner = Power4.alignement_4(c)\n",
        "        if p_winner!=0:\n",
        "            return p_winner\n",
        "    for c in Power4.get_diags(np.flip(grid, 0)):\n",
        "        p_winner = Power4.alignement_4(c)\n",
        "        if p_winner!=0:\n",
        "            return p_winner\n",
        "    return 0\n",
        "    \n",
        "  @staticmethod\n",
        "  def get_state(grid):\n",
        "    return np.append((grid==1).reshape((6, 7, 1)), (grid==-1).reshape((6, 7, 1)), axis=2).astype(np.uint8)"
      ],
      "execution_count": 0,
      "outputs": []
    },
    {
      "cell_type": "code",
      "metadata": {
        "id": "eFzWIzPL-KKK",
        "colab_type": "code",
        "colab": {}
      },
      "source": [
        "class Power4GameWrapper:\n",
        "    def __init__(self, grid=None):\n",
        "      if grid is not None:\n",
        "        self.grid = grid\n",
        "      else:\n",
        "        self.grid = np.zeros((7,6)).astype(np.int8)\n",
        "\n",
        "    def who_play(self):\n",
        "        return Power4.who_play(self.grid)\n",
        "\n",
        "    def play(self, move):\n",
        "        assert self.get_winner()==0, \"Un joueur a déjà gagné\"\n",
        "        assert move in range(7), \"'move' should be an integer between 0 and 7\"\n",
        "        stack = np.abs(self.grid[move]).sum()\n",
        "        assert stack < 6, \"This column is filled !\"\n",
        "        self.grid[move, stack] = self.who_play()\n",
        "        return self.get_winner()\n",
        "\n",
        "    def get_playing_mask(self):\n",
        "      return Power4.get_playing_mask(self.grid)\n",
        "\n",
        "    def get_winner(self):\n",
        "        return Power4.get_winner(self.grid)\n",
        "\n",
        "    def get_state(self):\n",
        "      return Power4.get_state(self.grid)\n",
        "\n",
        "    def __str__(self):\n",
        "        #print(self.grid)\n",
        "        grid = \"\"\n",
        "        for c in reversed(self.grid.T):\n",
        "            grid += \"|\"\n",
        "            for l in c:\n",
        "                grid+=\"{}|\".format([\"X\", \" \", \"O\"][l+1])\n",
        "            grid+=\"\\n\"\n",
        "        grid += ' '\n",
        "        for i in range(7):\n",
        "            grid += '{} '.format(i)\n",
        "        grid += \"\\nNext Move: {}\\n\".format(['X', 'O'][min(1, self.who_play()+1)])\n",
        "        return grid"
      ],
      "execution_count": 0,
      "outputs": []
    },
    {
      "cell_type": "markdown",
      "metadata": {
        "id": "9ZZiRIou99iK",
        "colab_type": "text"
      },
      "source": [
        "# **Agent**"
      ]
    },
    {
      "cell_type": "code",
      "metadata": {
        "id": "rYtqA35NbPNp",
        "colab_type": "code",
        "colab": {}
      },
      "source": [
        "# Agent constants\n",
        "INITIAL_CONV = 64\n",
        "RES_LAYERS = 5\n",
        "OUTPUT_POLICY_SIZE = 7"
      ],
      "execution_count": 0,
      "outputs": []
    },
    {
      "cell_type": "code",
      "metadata": {
        "id": "YYPaJ0GpTS7M",
        "colab_type": "code",
        "outputId": "281a969d-e3c8-4004-f5c2-be8490f827f2",
        "colab": {
          "base_uri": "https://localhost:8080/",
          "height": 867
        }
      },
      "source": [
        "class ResnetIdentityBlock(tf.keras.Model):\n",
        "  def __init__(self, kernel_size, filters):\n",
        "    super(ResnetIdentityBlock, self).__init__(name='')\n",
        "    filters1, filters2, filters3 = filters\n",
        "\n",
        "    self.conv2a = tf.keras.layers.Conv2D(filters1, (1, 1))\n",
        "    self.bn2a = tf.keras.layers.BatchNormalization()\n",
        "\n",
        "    self.conv2b = tf.keras.layers.Conv2D(filters2, kernel_size, padding='same')\n",
        "    self.bn2b = tf.keras.layers.BatchNormalization()\n",
        "\n",
        "    self.conv2c = tf.keras.layers.Conv2D(filters3, (1, 1))\n",
        "    self.bn2c = tf.keras.layers.BatchNormalization()\n",
        "\n",
        "  def call(self, input_tensor, training=False):\n",
        "    x = self.conv2a(input_tensor)\n",
        "    x = self.bn2a(x, training=training)\n",
        "    x = tf.nn.relu(x)\n",
        "\n",
        "    x = self.conv2b(x)\n",
        "    x = self.bn2b(x, training=training)\n",
        "    x = tf.nn.relu(x)\n",
        "\n",
        "    x = self.conv2c(x)\n",
        "    x = self.bn2c(x, training=training)\n",
        "\n",
        "    x += input_tensor\n",
        "    return tf.nn.relu(x)\n",
        "\n",
        "\n",
        "def get_model(input_shape):\n",
        "  t_input = tf.keras.layers.Input(input_shape)\n",
        "  x = tf.keras.layers.Conv2D(INITIAL_CONV, 3, padding='same')(t_input)\n",
        "  x = tf.keras.layers.BatchNormalization()(x)\n",
        "  x = tf.keras.activations.relu(x)\n",
        "  for _ in range(RES_LAYERS):\n",
        "    x = ResnetIdentityBlock(3, (INITIAL_CONV, INITIAL_CONV, INITIAL_CONV))(x)\n",
        "\n",
        "  x_feat = x\n",
        "\n",
        "  x = tf.keras.layers.Conv2D(INITIAL_CONV, 3)(x_feat)\n",
        "  x = tf.keras.layers.BatchNormalization()(x)\n",
        "  x = tf.keras.activations.relu(x)\n",
        "  x = tf.keras.layers.Flatten()(x)\n",
        "  x = tf.keras.layers.Dense(OUTPUT_POLICY_SIZE, use_bias=False)(x)\n",
        "  policy_output = tf.keras.activations.softmax(x)\n",
        "\n",
        "  x = tf.keras.layers.Conv2D(INITIAL_CONV, 3)(x_feat)\n",
        "  x = tf.keras.layers.BatchNormalization()(x)\n",
        "  x = tf.keras.activations.relu(x)\n",
        "  x = tf.keras.layers.Flatten()(x)\n",
        "  x = tf.keras.layers.Dense(1, use_bias=False)(x)\n",
        "  value_output = tf.keras.activations.tanh(x)\n",
        "\n",
        "  return tf.keras.models.Model(inputs=t_input, outputs=[policy_output, value_output])\n",
        "\n",
        "def build_model():\n",
        "  return get_model((6, 7, 2))\n",
        "\n",
        "build_model().summary()"
      ],
      "execution_count": 0,
      "outputs": [
        {
          "output_type": "stream",
          "text": [
            "Model: \"model\"\n",
            "__________________________________________________________________________________________________\n",
            "Layer (type)                    Output Shape         Param #     Connected to                     \n",
            "==================================================================================================\n",
            "input_1 (InputLayer)            [(None, 6, 7, 2)]    0                                            \n",
            "__________________________________________________________________________________________________\n",
            "conv2d (Conv2D)                 (None, 6, 7, 64)     1216        input_1[0][0]                    \n",
            "__________________________________________________________________________________________________\n",
            "batch_normalization (BatchNorma (None, 6, 7, 64)     256         conv2d[0][0]                     \n",
            "__________________________________________________________________________________________________\n",
            "tf_op_layer_Relu (TensorFlowOpL [(None, 6, 7, 64)]   0           batch_normalization[0][0]        \n",
            "__________________________________________________________________________________________________\n",
            "resnet_identity_block (ResnetId (None, 6, 7, 64)     46016       tf_op_layer_Relu[0][0]           \n",
            "__________________________________________________________________________________________________\n",
            "resnet_identity_block_1 (Resnet (None, 6, 7, 64)     46016       resnet_identity_block[0][0]      \n",
            "__________________________________________________________________________________________________\n",
            "resnet_identity_block_2 (Resnet (None, 6, 7, 64)     46016       resnet_identity_block_1[0][0]    \n",
            "__________________________________________________________________________________________________\n",
            "resnet_identity_block_3 (Resnet (None, 6, 7, 64)     46016       resnet_identity_block_2[0][0]    \n",
            "__________________________________________________________________________________________________\n",
            "resnet_identity_block_4 (Resnet (None, 6, 7, 64)     46016       resnet_identity_block_3[0][0]    \n",
            "__________________________________________________________________________________________________\n",
            "conv2d_16 (Conv2D)              (None, 4, 5, 64)     36928       resnet_identity_block_4[0][0]    \n",
            "__________________________________________________________________________________________________\n",
            "conv2d_17 (Conv2D)              (None, 4, 5, 64)     36928       resnet_identity_block_4[0][0]    \n",
            "__________________________________________________________________________________________________\n",
            "batch_normalization_16 (BatchNo (None, 4, 5, 64)     256         conv2d_16[0][0]                  \n",
            "__________________________________________________________________________________________________\n",
            "batch_normalization_17 (BatchNo (None, 4, 5, 64)     256         conv2d_17[0][0]                  \n",
            "__________________________________________________________________________________________________\n",
            "tf_op_layer_Relu_1 (TensorFlowO [(None, 4, 5, 64)]   0           batch_normalization_16[0][0]     \n",
            "__________________________________________________________________________________________________\n",
            "tf_op_layer_Relu_2 (TensorFlowO [(None, 4, 5, 64)]   0           batch_normalization_17[0][0]     \n",
            "__________________________________________________________________________________________________\n",
            "flatten (Flatten)               (None, 1280)         0           tf_op_layer_Relu_1[0][0]         \n",
            "__________________________________________________________________________________________________\n",
            "flatten_1 (Flatten)             (None, 1280)         0           tf_op_layer_Relu_2[0][0]         \n",
            "__________________________________________________________________________________________________\n",
            "dense (Dense)                   (None, 7)            8960        flatten[0][0]                    \n",
            "__________________________________________________________________________________________________\n",
            "dense_1 (Dense)                 (None, 1)            1280        flatten_1[0][0]                  \n",
            "__________________________________________________________________________________________________\n",
            "tf_op_layer_Softmax (TensorFlow [(None, 7)]          0           dense[0][0]                      \n",
            "__________________________________________________________________________________________________\n",
            "tf_op_layer_Tanh (TensorFlowOpL [(None, 1)]          0           dense_1[0][0]                    \n",
            "==================================================================================================\n",
            "Total params: 316,160\n",
            "Trainable params: 313,856\n",
            "Non-trainable params: 2,304\n",
            "__________________________________________________________________________________________________\n"
          ],
          "name": "stdout"
        }
      ]
    },
    {
      "cell_type": "code",
      "metadata": {
        "id": "n7iyff92TBGg",
        "colab_type": "code",
        "colab": {}
      },
      "source": [
        "def discount(rewards, rate=0.91):\n",
        "    \"\"\"\n",
        "    Discount the givens rewards\n",
        "\n",
        "    Args:\n",
        "        rewards: 1d list of rewards\n",
        "        rate: discount rate\n",
        "    \n",
        "    Return:\n",
        "        1d array containing the discounted rewards\n",
        "    \"\"\"\n",
        "    discounted_r = [0 for _ in range(len(rewards))]\n",
        "    current_r = 0\n",
        "    for idx, r in enumerate(reversed(rewards)):\n",
        "        current_r = current_r * rate + r\n",
        "        discounted_r[len(rewards) - idx - 1] = current_r\n",
        "    return discounted_r\n",
        "\n",
        "def normalize(arr):\n",
        "    \"\"\"\n",
        "    Normalize the given array\n",
        "\n",
        "    Args:\n",
        "        arr: array of numbers\n",
        "    \n",
        "    Return:\n",
        "        array normalized\n",
        "    \"\"\"\n",
        "    arr -= arr.mean()\n",
        "    arr /= arr.std()\n",
        "    return arr"
      ],
      "execution_count": 0,
      "outputs": []
    },
    {
      "cell_type": "code",
      "metadata": {
        "id": "Sn0ZdKs2L-Cq",
        "colab_type": "code",
        "colab": {}
      },
      "source": [
        "class MonteCarloTreeSearch:\n",
        "  def __init__(self, estimator, Environment):\n",
        "    self.estimator = estimator\n",
        "    self.Environment = Environment\n",
        "\n",
        "  def getValues(self, state, nEstimations=1600):\n",
        "    prediction = self.estimator.predict(np.expand_dims(state, axis=0))\n",
        "    print(prediction)\n",
        "    raise aaa\n",
        "\n",
        "class Buffer:\n",
        "  def __init__(self):\n",
        "    self.states = []\n",
        "    self.actions = []\n",
        "    self.rewards = []\n",
        "\n",
        "  def push(states, actions, rewards):\n",
        "    self.states += states\n",
        "    self.actions += actions\n",
        "    self.rewards += discount(rewards)\n",
        "\n",
        "  def grab(self):\n",
        "    data = (shuffle(\n",
        "        np.array(self.states),\n",
        "        np.array(self.actions),\n",
        "        normalize(np.array(self.rewards))\n",
        "    ))\n",
        "    self.states = []\n",
        "    self.actions = []\n",
        "    self.rewards = []\n",
        "    return data\n",
        "\n",
        "class Agent:\n",
        "  def __init__(self, weights_path=None):\n",
        "    self.model = build_model()\n",
        "    if weights_path is not None:\n",
        "      self.model.load_weights(weigths_path)\n",
        "    self.buffer = Buffer()\n",
        "    self.mcts = MonteCarloTreeSearch(self.model, Power4)\n",
        "\n",
        "  def play_move(self, game):\n",
        "    values = self.mcts.getValues(game.grid)\n",
        "    return randint(0, 6)\n",
        "\n",
        "class Human:\n",
        "  def get_move(self):\n",
        "    try:\n",
        "        move = int(input())\n",
        "        assert move in range(7)\n",
        "        return move\n",
        "    except Exception as e:\n",
        "        print(e)\n",
        "        return self.get_move()\n",
        "\n",
        "  def play_move(self, game):\n",
        "    print(game)\n",
        "    move = self.get_move()\n",
        "    try:\n",
        "        winner = game.play(move)\n",
        "        return winner\n",
        "    except Exception as e:\n",
        "        print(e)\n",
        "        return self.play_move()\n"
      ],
      "execution_count": 0,
      "outputs": []
    },
    {
      "cell_type": "code",
      "metadata": {
        "id": "ShlVF_gsmHCn",
        "colab_type": "code",
        "colab": {}
      },
      "source": [
        "def play_game(p1, p2):\n",
        "    players = [p1, p2]\n",
        "    idx_playing = 0\n",
        "    winner = 0\n",
        "    g = Power4GameWrapper()\n",
        "    while winner==0:\n",
        "      winner = players[idx_playing].play_move(g)\n",
        "      idx_playing = 1 - idx_playing\n"
      ],
      "execution_count": 0,
      "outputs": []
    },
    {
      "cell_type": "code",
      "metadata": {
        "id": "fxShUwCvadT_",
        "colab_type": "code",
        "outputId": "43140d08-4c8d-40de-efdc-fc566f5d9010",
        "colab": {
          "base_uri": "https://localhost:8080/",
          "height": 510
        }
      },
      "source": [
        "play_game(Human(), Agent())"
      ],
      "execution_count": 0,
      "outputs": [
        {
          "output_type": "stream",
          "text": [
            "| | | | | | | |\n",
            "| | | | | | | |\n",
            "| | | | | | | |\n",
            "| | | | | | | |\n",
            "| | | | | | | |\n",
            "| | | | | | | |\n",
            " 0 1 2 3 4 5 6 \n",
            "Next Move: O\n",
            "\n",
            "0\n",
            "[array([[0.13768716, 0.1481444 , 0.14161916, 0.14173415, 0.14370105,\n",
            "        0.14421165, 0.1429024 ]], dtype=float32), array([[0.02381852]], dtype=float32)]\n"
          ],
          "name": "stdout"
        },
        {
          "output_type": "error",
          "ename": "NameError",
          "evalue": "ignored",
          "traceback": [
            "\u001b[0;31m---------------------------------------------------------------------------\u001b[0m",
            "\u001b[0;31mNameError\u001b[0m                                 Traceback (most recent call last)",
            "\u001b[0;32m<ipython-input-9-4ce445e8c4b4>\u001b[0m in \u001b[0;36m<module>\u001b[0;34m()\u001b[0m\n\u001b[0;32m----> 1\u001b[0;31m \u001b[0mplay_game\u001b[0m\u001b[0;34m(\u001b[0m\u001b[0mHuman\u001b[0m\u001b[0;34m(\u001b[0m\u001b[0;34m)\u001b[0m\u001b[0;34m,\u001b[0m \u001b[0mAgent\u001b[0m\u001b[0;34m(\u001b[0m\u001b[0;34m)\u001b[0m\u001b[0;34m)\u001b[0m\u001b[0;34m\u001b[0m\u001b[0;34m\u001b[0m\u001b[0m\n\u001b[0m",
            "\u001b[0;32m<ipython-input-8-9834e3eb8faf>\u001b[0m in \u001b[0;36mplay_game\u001b[0;34m(p1, p2)\u001b[0m\n\u001b[1;32m      5\u001b[0m     \u001b[0mg\u001b[0m \u001b[0;34m=\u001b[0m \u001b[0mPower4\u001b[0m\u001b[0;34m(\u001b[0m\u001b[0;34m)\u001b[0m\u001b[0;34m\u001b[0m\u001b[0;34m\u001b[0m\u001b[0m\n\u001b[1;32m      6\u001b[0m     \u001b[0;32mwhile\u001b[0m \u001b[0mwinner\u001b[0m\u001b[0;34m==\u001b[0m\u001b[0;36m0\u001b[0m\u001b[0;34m:\u001b[0m\u001b[0;34m\u001b[0m\u001b[0;34m\u001b[0m\u001b[0m\n\u001b[0;32m----> 7\u001b[0;31m       \u001b[0mwinner\u001b[0m \u001b[0;34m=\u001b[0m \u001b[0mplayers\u001b[0m\u001b[0;34m[\u001b[0m\u001b[0midx_playing\u001b[0m\u001b[0;34m]\u001b[0m\u001b[0;34m.\u001b[0m\u001b[0mplay_move\u001b[0m\u001b[0;34m(\u001b[0m\u001b[0mg\u001b[0m\u001b[0;34m)\u001b[0m\u001b[0;34m\u001b[0m\u001b[0;34m\u001b[0m\u001b[0m\n\u001b[0m\u001b[1;32m      8\u001b[0m       \u001b[0midx_playing\u001b[0m \u001b[0;34m=\u001b[0m \u001b[0;36m1\u001b[0m \u001b[0;34m-\u001b[0m \u001b[0midx_playing\u001b[0m\u001b[0;34m\u001b[0m\u001b[0;34m\u001b[0m\u001b[0m\n",
            "\u001b[0;32m<ipython-input-7-36973fe1b7ec>\u001b[0m in \u001b[0;36mplay_move\u001b[0;34m(self, game)\u001b[0m\n\u001b[1;32m     40\u001b[0m \u001b[0;34m\u001b[0m\u001b[0m\n\u001b[1;32m     41\u001b[0m   \u001b[0;32mdef\u001b[0m \u001b[0mplay_move\u001b[0m\u001b[0;34m(\u001b[0m\u001b[0mself\u001b[0m\u001b[0;34m,\u001b[0m \u001b[0mgame\u001b[0m\u001b[0;34m)\u001b[0m\u001b[0;34m:\u001b[0m\u001b[0;34m\u001b[0m\u001b[0;34m\u001b[0m\u001b[0m\n\u001b[0;32m---> 42\u001b[0;31m     \u001b[0mvalues\u001b[0m \u001b[0;34m=\u001b[0m \u001b[0mMonteCarloTreeSearch\u001b[0m\u001b[0;34m(\u001b[0m\u001b[0mself\u001b[0m\u001b[0;34m.\u001b[0m\u001b[0mmodel\u001b[0m\u001b[0;34m,\u001b[0m \u001b[0mPower4\u001b[0m\u001b[0;34m)\u001b[0m\u001b[0;34m.\u001b[0m\u001b[0mgetValues\u001b[0m\u001b[0;34m(\u001b[0m\u001b[0mgame\u001b[0m\u001b[0;34m.\u001b[0m\u001b[0mget_state\u001b[0m\u001b[0;34m(\u001b[0m\u001b[0;34m)\u001b[0m\u001b[0;34m)\u001b[0m\u001b[0;34m\u001b[0m\u001b[0;34m\u001b[0m\u001b[0m\n\u001b[0m\u001b[1;32m     43\u001b[0m     \u001b[0;32mreturn\u001b[0m \u001b[0mrandint\u001b[0m\u001b[0;34m(\u001b[0m\u001b[0;36m0\u001b[0m\u001b[0;34m,\u001b[0m \u001b[0;36m6\u001b[0m\u001b[0;34m)\u001b[0m\u001b[0;34m\u001b[0m\u001b[0;34m\u001b[0m\u001b[0m\n\u001b[1;32m     44\u001b[0m \u001b[0;34m\u001b[0m\u001b[0m\n",
            "\u001b[0;32m<ipython-input-7-36973fe1b7ec>\u001b[0m in \u001b[0;36mgetValues\u001b[0;34m(self, state, nEstimations)\u001b[0m\n\u001b[1;32m      8\u001b[0m     \u001b[0mprediction\u001b[0m \u001b[0;34m=\u001b[0m \u001b[0mself\u001b[0m\u001b[0;34m.\u001b[0m\u001b[0mestimator\u001b[0m\u001b[0;34m.\u001b[0m\u001b[0mpredict\u001b[0m\u001b[0;34m(\u001b[0m\u001b[0mnp\u001b[0m\u001b[0;34m.\u001b[0m\u001b[0mexpand_dims\u001b[0m\u001b[0;34m(\u001b[0m\u001b[0mstate\u001b[0m\u001b[0;34m,\u001b[0m \u001b[0maxis\u001b[0m\u001b[0;34m=\u001b[0m\u001b[0;36m0\u001b[0m\u001b[0;34m)\u001b[0m\u001b[0;34m)\u001b[0m\u001b[0;34m\u001b[0m\u001b[0;34m\u001b[0m\u001b[0m\n\u001b[1;32m      9\u001b[0m     \u001b[0mprint\u001b[0m\u001b[0;34m(\u001b[0m\u001b[0mprediction\u001b[0m\u001b[0;34m)\u001b[0m\u001b[0;34m\u001b[0m\u001b[0;34m\u001b[0m\u001b[0m\n\u001b[0;32m---> 10\u001b[0;31m     \u001b[0;32mraise\u001b[0m \u001b[0maaa\u001b[0m\u001b[0;34m\u001b[0m\u001b[0;34m\u001b[0m\u001b[0m\n\u001b[0m\u001b[1;32m     11\u001b[0m \u001b[0;34m\u001b[0m\u001b[0m\n\u001b[1;32m     12\u001b[0m \u001b[0;32mclass\u001b[0m \u001b[0mBuffer\u001b[0m\u001b[0;34m:\u001b[0m\u001b[0;34m\u001b[0m\u001b[0;34m\u001b[0m\u001b[0m\n",
            "\u001b[0;31mNameError\u001b[0m: name 'aaa' is not defined"
          ]
        }
      ]
    },
    {
      "cell_type": "code",
      "metadata": {
        "id": "_8Mg0m7am6NH",
        "colab_type": "code",
        "colab": {}
      },
      "source": [
        ""
      ],
      "execution_count": 0,
      "outputs": []
    }
  ]
}